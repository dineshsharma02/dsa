{
 "cells": [
  {
   "cell_type": "code",
   "execution_count": null,
   "id": "230393c5",
   "metadata": {},
   "outputs": [],
   "source": [
    "from collections import deque\n",
    "class Queue:\n",
    "    def __init__(self):\n",
    "        self.buffer=deque()\n",
    "    def enqueue(self,value):\n",
    "        self.buffer.appendleft(value)\n",
    "    def dequeue(self):\n",
    "        return self.buffer.pop()\n",
    "    def is_empty(self):\n",
    "        return len(self.buffer)==0\n",
    "    def size(self):\n",
    "        return len(self.buffer)\n",
    "    \n",
    "    \n",
    "q = Queue()\n",
    "q.enqueue({\n",
    "    'company':\"ITC\",\n",
    "    \"price\":250,\n",
    "    \"timestamp\":\"4 Nov 2021\"\n",
    "})\n",
    "q.enqueue({\n",
    "    'company':\"Hindalco\",\n",
    "    \"price\":500,\n",
    "    \"timestamp\":\"15 Dec 2021\"\n",
    "})\n",
    "q.enqueue({\n",
    "    'company':\"Adani ports\",\n",
    "    \"price\":200,\n",
    "    \"timestamp\":\"20 Oct 2021\"\n",
    "})\n",
    "\n",
    "\n",
    "q.buffer\n",
    "q.dequeue()\n",
    "q.buffer"
   ]
  },
  {
   "cell_type": "code",
   "execution_count": null,
   "id": "da51f7fa",
   "metadata": {},
   "outputs": [],
   "source": []
  },
  {
   "cell_type": "markdown",
   "id": "0cc190c2",
   "metadata": {},
   "source": [
    "# Exercise questions\n"
   ]
  },
  {
   "cell_type": "raw",
   "id": "aac6c0d8",
   "metadata": {},
   "source": [
    "Design a food ordering system where your python program will run two threads,\n",
    "\n",
    "Place Order: This thread will be placing an order and inserting that into a queue. This thread places new order every 0.5 second. (hint: use time.sleep(0.5) function)\n",
    "Serve Order: This thread will server the order. All you need to do is pop the order out of the queue and print it. This thread serves an order every 2 seconds. Also start this thread 1 second after place order thread is started.\n",
    "Use this video to get yourself familiar with multithreading in python\n",
    "\n",
    "Pass following list as an argument to place order thread,\n",
    "\n",
    "orders = ['pizza','samosa','pasta','biryani','burger']\n",
    "This problem is a producer,consumer problem where place_order thread is producing orders whereas server_order thread is consuming the food orders. Use Queue class implemented in a video tutorial."
   ]
  },
  {
   "cell_type": "code",
   "execution_count": null,
   "id": "95c1ef1c",
   "metadata": {},
   "outputs": [],
   "source": []
  },
  {
   "cell_type": "code",
   "execution_count": null,
   "id": "64d0c8c5",
   "metadata": {},
   "outputs": [],
   "source": [
    "import threading\n",
    "import time\n",
    "from collections import deque\n",
    "class orderqueue:\n",
    "    def __init__(self):\n",
    "        self.buffer = deque()\n",
    "    def enqueue(self,value):\n",
    "        self.buffer.appendleft(value)\n",
    "    def dequeue(self):\n",
    "        if len(self.buffer)==0:\n",
    "            print(\"Queue is empty\")\n",
    "            return\n",
    "        return self.buffer.pop()\n",
    "    def show(self):\n",
    "        return self.buffer\n",
    "    def size(self):\n",
    "        return len(self.buffer)\n",
    "    \n",
    "#     def place_order(self,order): \n",
    "#         self.buffer.appendleft(order)\n",
    "        \n",
    "orderbook  = orderqueue()\n",
    "def place_orders(orders):\n",
    "    for order in orders:\n",
    "        print(\"Placing order for:\",order)\n",
    "        orderbook.enqueue(order)\n",
    "#         orderbook.buffer\n",
    "        time.sleep(0.5)\n",
    "    \n",
    "def serve_orders(orders):\n",
    "    time.sleep(1)\n",
    "    while len(orders)!=0:\n",
    "        order = orderbook.dequeue()\n",
    "        print(\"Now serving: \",order)\n",
    "#         orderbook.buffer\n",
    "        time.sleep(2)\n",
    "    \n",
    "if __name__ == \"__main__\":\n",
    "    orders = ['pizza','samosa','pasta','biryani','burger']\n",
    "    t1 = threading.Thread(target=place_orders, args=(orders,))\n",
    "    t2 = threading.Thread(target=serve_orders)\n",
    "\n",
    "    t1.start()\n",
    "    t2.start()\n",
    "    \n"
   ]
  },
  {
   "cell_type": "code",
   "execution_count": null,
   "id": "7a8a4ef0",
   "metadata": {},
   "outputs": [],
   "source": [
    "\n"
   ]
  },
  {
   "cell_type": "code",
   "execution_count": null,
   "id": "c3eee996",
   "metadata": {},
   "outputs": [],
   "source": []
  },
  {
   "cell_type": "markdown",
   "id": "f0330225",
   "metadata": {},
   "source": [
    "# 2.  Write a program to print binary numbers from 1 to 10 using Queue. Use Queue class implemented in main tutorial. Binary sequence should look like,\n",
    "    1\n",
    "    10\n",
    "    11\n",
    "    100\n",
    "    101\n",
    "    110\n",
    "    111\n",
    "    1000\n",
    "    1001\n",
    "    1010\n",
    "    "
   ]
  },
  {
   "cell_type": "code",
   "execution_count": 26,
   "id": "be070d66",
   "metadata": {},
   "outputs": [
    {
     "name": "stdout",
     "output_type": "stream",
     "text": [
      "     1\n",
      "     10\n",
      "     11\n",
      "     100\n",
      "     101\n",
      "     110\n",
      "     111\n",
      "     1000\n",
      "     1001\n",
      "     1010\n"
     ]
    }
   ],
   "source": [
    "from collections import deque\n",
    "class Queue:\n",
    "    def __init__(self):\n",
    "        self.buffer = deque()\n",
    "    def enqueue(self,value):\n",
    "        self.buffer.appendleft(value)\n",
    "    def dequeue(self):\n",
    "        if len(self.buffer)==0:\n",
    "            print(\"Queue is empty\")\n",
    "            return\n",
    "        return self.buffer.pop()\n",
    "    def is_empty(self):\n",
    "        return len(self.buffer)==0\n",
    "    def size(self):\n",
    "        return len(self.buffer)\n",
    "    def front(self):\n",
    "        return self.buffer[-1]\n",
    "    \n",
    "def produce_binary_number(n):\n",
    "    num_queue = Queue()\n",
    "    num_queue.enqueue(\"1\")\n",
    "    for i in range(n):\n",
    "        front = num_queue.front()\n",
    "        print(\"    \",front)\n",
    "        num_queue.enqueue(front+\"0\")\n",
    "        num_queue.enqueue(front+\"1\")\n",
    "        num_queue.dequeue()\n",
    "        \n",
    "if __name__ == \"__main__\":\n",
    "    produce_binary_number(10)"
   ]
  },
  {
   "cell_type": "code",
   "execution_count": null,
   "id": "a6c9f39e",
   "metadata": {},
   "outputs": [],
   "source": []
  }
 ],
 "metadata": {
  "kernelspec": {
   "display_name": "Python 3 (ipykernel)",
   "language": "python",
   "name": "python3"
  },
  "language_info": {
   "codemirror_mode": {
    "name": "ipython",
    "version": 3
   },
   "file_extension": ".py",
   "mimetype": "text/x-python",
   "name": "python",
   "nbconvert_exporter": "python",
   "pygments_lexer": "ipython3",
   "version": "3.9.6"
  }
 },
 "nbformat": 4,
 "nbformat_minor": 5
}
