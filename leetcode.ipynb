{
 "cells": [
  {
   "cell_type": "code",
   "execution_count": 23,
   "id": "baebc4e3",
   "metadata": {},
   "outputs": [
    {
     "name": "stdout",
     "output_type": "stream",
     "text": [
      "left index altered\n",
      "left index altered\n",
      "left index altered\n",
      "left index altered\n",
      "23\n"
     ]
    }
   ],
   "source": [
    "def searchInsert(nums, target):\n",
    "        \"\"\"\n",
    "        :type nums: List[int]\n",
    "        :type target: int\n",
    "        :rtype: int\n",
    "        \"\"\"\n",
    "        leftindex = 0\n",
    "        rightindex = len(nums)-1\n",
    "        \n",
    "        while leftindex<rightindex:\n",
    "            midindex = (leftindex+rightindex) // 2\n",
    "            midvalue = nums[midindex]\n",
    "#             print(midvalue)\n",
    "            if midvalue == target:\n",
    "                return midindex\n",
    "            \n",
    "            if midvalue>target:\n",
    "#                 print(midindex,rightindex)\n",
    "                rightindex = midindex\n",
    "#                 print(midindex,rightindex)\n",
    "                print(\"right index altered\",rightindex)\n",
    "#                 print(midindex)\n",
    "            else:\n",
    "                leftindex = midindex+1\n",
    "                print(\"left index altered\")\n",
    "#                 print(midindex)\n",
    "        if rightindex!=len(nums)-1:\n",
    "            return rightindex\n",
    "        \n",
    "    \n",
    "lst = [1,3,5,6,7,8,9,10,11,12,13,14,15,16,17,18,19,20,21,22,23,24,25,26]\n",
    "print(searchInsert(lst,27))"
   ]
  },
  {
   "cell_type": "code",
   "execution_count": 4,
   "id": "f19520ac",
   "metadata": {},
   "outputs": [
    {
     "name": "stdout",
     "output_type": "stream",
     "text": [
      "hola\n"
     ]
    }
   ],
   "source": [
    "print(\"hola\")"
   ]
  },
  {
   "cell_type": "code",
   "execution_count": null,
   "id": "0c9febb4",
   "metadata": {},
   "outputs": [],
   "source": []
  },
  {
   "cell_type": "code",
   "execution_count": null,
   "id": "75fed4e2",
   "metadata": {},
   "outputs": [],
   "source": []
  }
 ],
 "metadata": {
  "kernelspec": {
   "display_name": "Python 3 (ipykernel)",
   "language": "python",
   "name": "python3"
  },
  "language_info": {
   "codemirror_mode": {
    "name": "ipython",
    "version": 3
   },
   "file_extension": ".py",
   "mimetype": "text/x-python",
   "name": "python",
   "nbconvert_exporter": "python",
   "pygments_lexer": "ipython3",
   "version": "3.9.6"
  }
 },
 "nbformat": 4,
 "nbformat_minor": 5
}
