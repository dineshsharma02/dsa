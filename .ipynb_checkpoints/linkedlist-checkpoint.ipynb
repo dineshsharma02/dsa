{
 "cells": [
  {
   "cell_type": "code",
   "execution_count": null,
   "id": "a84647b6",
   "metadata": {},
   "outputs": [],
   "source": [
    "class Node:\n",
    "    def __init__(self,data=None,next=None):\n",
    "        self.data=data\n",
    "        self.next=next\n",
    "        \n",
    "class LinkedList:\n",
    "    def __init__(self):\n",
    "        self.head=None\n",
    "        \n",
    "    def insert_at_begining(self,data):\n",
    "        node = Node(data,self.head)\n",
    "        self.head=node\n",
    "        \n",
    "        \n",
    "    def insert_at_end(self,data):\n",
    "        newnode = Node(data,None)\n",
    "        if self.head is None:\n",
    "            self.head=newnode\n",
    "        itr = self.head\n",
    "        while itr.next!=None:\n",
    "            itr=itr.next\n",
    "        itr.next=newnode\n",
    "        \n",
    "    def print(self):\n",
    "        if self.head is None:\n",
    "            print(\"Linked list is empty\")\n",
    "            return\n",
    "        itr=self.head\n",
    "        llstr=''\n",
    "        while itr!=None:\n",
    "            llstr+=str(itr.data)+'-->'\n",
    "            itr=itr.next\n",
    "        print(llstr)\n",
    "        \n",
    "        print(\"helllo\")\n",
    "        \n",
    "if __name__ == '__main__':\n",
    "    ll = LinkedList()\n",
    "#     ll.insert_at_begining(5)\n",
    "    ll.insert_at_begining(6)\n",
    "    ll.insert_at_begining(9)\n",
    "#     ll.insert_at_end(11)\n",
    "    ll.print()"
   ]
  },
  {
   "cell_type": "code",
   "execution_count": null,
   "id": "3297cde4",
   "metadata": {},
   "outputs": [],
   "source": []
  },
  {
   "cell_type": "code",
   "execution_count": null,
   "id": "676421bb",
   "metadata": {},
   "outputs": [],
   "source": []
  },
  {
   "cell_type": "code",
   "execution_count": null,
   "id": "99b343ba",
   "metadata": {},
   "outputs": [],
   "source": []
  }
 ],
 "metadata": {
  "kernelspec": {
   "display_name": "Python 3 (ipykernel)",
   "language": "python",
   "name": "python3"
  },
  "language_info": {
   "codemirror_mode": {
    "name": "ipython",
    "version": 3
   },
   "file_extension": ".py",
   "mimetype": "text/x-python",
   "name": "python",
   "nbconvert_exporter": "python",
   "pygments_lexer": "ipython3",
   "version": "3.9.6"
  }
 },
 "nbformat": 4,
 "nbformat_minor": 5
}
