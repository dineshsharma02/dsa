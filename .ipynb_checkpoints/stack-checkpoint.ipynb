{
 "cells": [
  {
   "cell_type": "markdown",
   "id": "882100ce",
   "metadata": {},
   "source": [
    "# 1. Write a function in python that can reverse a string using stack data structure. Use Stack class from the tutorial.\n",
    "reverse_string(\"We will conquere COVID-19\") should return \"91-DIVOC ereuqnoc lliw eW\"# "
   ]
  },
  {
   "cell_type": "code",
   "execution_count": 71,
   "id": "1053e7f8",
   "metadata": {},
   "outputs": [
    {
     "name": "stdout",
     "output_type": "stream",
     "text": [
      "amrahS hsenid ma I\n"
     ]
    }
   ],
   "source": [
    "from collections import deque\n",
    "class Stack:\n",
    "    def __init__(self):\n",
    "        self.container=deque()\n",
    "    def push(self,val):\n",
    "        self.container.append(val)\n",
    "    def pop(self):\n",
    "        return self.container.pop()\n",
    "    def peek(self):\n",
    "        return self.container[-1]\n",
    "    def is_empty(self):\n",
    "        return len(self.container)==0\n",
    "    def size(self):\n",
    "        return len(self.container)\n",
    "def reverse_string(s):\n",
    "    stack = Stack()\n",
    "    for ch in s:\n",
    "        stack.push(ch)\n",
    "    rstr= ''\n",
    "    while stack.size()!=0:\n",
    "        rstr+=stack.pop()\n",
    "    return rstr\n",
    "\n",
    "if __name__ == '__main__':\n",
    "    print(reverse_string(\"I am dinesh Sharma\"))"
   ]
  },
  {
   "cell_type": "markdown",
   "id": "9aa187d0",
   "metadata": {},
   "source": [
    "# 2. Write a function in python that checks if paranthesis in the string are balanced or not. Possible parantheses are \"{}',\"()\" or \"[]\". Use Stack class from the tutorial.\n",
    "is_balanced(\"({a+b})\")     --> True\n",
    "\n",
    "is_balanced(\"))((a+b}{\")   --> False\n",
    "\n",
    "is_balanced(\"((a+b))\")     --> True\n",
    "\n",
    "is_balanced(\"))\")          --> False\n",
    "\n",
    "is_balanced(\"[a+b]*(x+2y)*{gg+kk}\") --> True"
   ]
  },
  {
   "cell_type": "code",
   "execution_count": 69,
   "id": "b0590cc3",
   "metadata": {},
   "outputs": [
    {
     "name": "stdout",
     "output_type": "stream",
     "text": [
      "True\n",
      "False\n",
      "True\n",
      "True\n",
      "False\n",
      "True\n"
     ]
    }
   ],
   "source": [
    "from collections import deque\n",
    "class Stack:\n",
    "    def __init__(self):\n",
    "        self.container = deque()\n",
    "    def push(self,value):\n",
    "        self.container.append(value)\n",
    "    def pop(self):\n",
    "        return self.container.pop()\n",
    "    def peek(self):\n",
    "        return self.container[-1]\n",
    "    def is_empty(self):\n",
    "        return len(self.container)==0\n",
    "    def size(self):\n",
    "        return len(self.container)\n",
    "    \n",
    "    \n",
    "def is_match(ch1,ch2):\n",
    "    match_dict = {\n",
    "        ')':'(',\n",
    "        ']':'[',\n",
    "        '}':'{',\n",
    "    }\n",
    "    return match_dict[ch1]==ch2\n",
    "    \n",
    "def is_balanced(s):\n",
    "    stack = Stack()\n",
    "    \n",
    "    for char in s:\n",
    "        if char == \"{\" or char==\"[\" or  char == \"(\":\n",
    "            stack.push(char)\n",
    "        if char==\"}\" or char==\")\" or char == \"]\":\n",
    "            if stack.size()==0:\n",
    "                return False\n",
    "            if not is_match(char,stack.pop()):\n",
    "                return False\n",
    "    return stack.size()==0\n",
    "if __name__ == '__main__':\n",
    "    print(is_balanced(\"({a+b})\"))\n",
    "    print(is_balanced(\"))((a+b}{\"))\n",
    "    print(is_balanced(\"((a+b))\"))\n",
    "    print(is_balanced(\"((a+g))\"))\n",
    "    print(is_balanced(\"))\"))\n",
    "    print(is_balanced(\"[a+b]*(x+2y)*{gg+kk}\"))"
   ]
  }
 ],
 "metadata": {
  "kernelspec": {
   "display_name": "Python 3 (ipykernel)",
   "language": "python",
   "name": "python3"
  },
  "language_info": {
   "codemirror_mode": {
    "name": "ipython",
    "version": 3
   },
   "file_extension": ".py",
   "mimetype": "text/x-python",
   "name": "python",
   "nbconvert_exporter": "python",
   "pygments_lexer": "ipython3",
   "version": "3.9.6"
  }
 },
 "nbformat": 4,
 "nbformat_minor": 5
}
