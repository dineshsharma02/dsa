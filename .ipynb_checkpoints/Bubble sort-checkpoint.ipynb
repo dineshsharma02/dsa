{
 "cells": [
  {
   "cell_type": "code",
   "execution_count": 3,
   "id": "5c4706f3",
   "metadata": {},
   "outputs": [
    {
     "name": "stdout",
     "output_type": "stream",
     "text": [
      "[2, 7, 9, 15, 28, 29, 38]\n"
     ]
    }
   ],
   "source": [
    "def bubble_sort(elements):\n",
    "    for i in range(0,len(elements)):\n",
    "        i=0\n",
    "        j=0\n",
    "        for j in range(1,len(elements)):\n",
    "#             print(i,j)\n",
    "            if elements[i]>elements[j]:\n",
    "                newelement = elements[i]\n",
    "                elements[i] = elements[j]\n",
    "                elements[j] = newelement\n",
    "            \n",
    "            i+=1\n",
    "            j+=1\n",
    "            \n",
    "    return elements\n",
    "        \n",
    "if __name__ == \"__main__\":\n",
    "    elements = [38,9,29,7,2,15,28]\n",
    "#     elements = [2,1,5,7,9]\n",
    "    print(bubble_sort(elements))"
   ]
  },
  {
   "cell_type": "code",
   "execution_count": 5,
   "id": "5aa9fd86",
   "metadata": {},
   "outputs": [
    {
     "name": "stdout",
     "output_type": "stream",
     "text": [
      "Normal Bubble sort: [2, 7, 9, 15, 28, 29, 38]\n",
      "Recursive Bubble Sort: [2, 7, 9, 15, 28, 29, 38]\n"
     ]
    }
   ],
   "source": [
    "def bubble_sort_recursive(elements,count=0):\n",
    "#     for i in range(0,len(elements)):\n",
    "#         for j in range(1,len(elements)):\n",
    "#             if elements[i]>elements[j]:\n",
    "#                 newelement = elements[i]\n",
    "#                 elements[i] = elements[j]\n",
    "#                 elements[j] = newelement\n",
    "            \n",
    "#             i+=1\n",
    "#             j+=1\n",
    "\n",
    "    i=0\n",
    "    j=1\n",
    "    # print(i,j)\n",
    "    \n",
    "    \n",
    "    while(j<=len(elements)-1):\n",
    "        if elements[i]>elements[j]:\n",
    "            newelement = elements[i]\n",
    "            elements[i] = elements[j]\n",
    "            elements[j] = newelement\n",
    "            # print('swapping',elements[i],'with',elements[j])\n",
    "        i+=1\n",
    "        j+=1\n",
    "        # print(i,j)\n",
    "        count+=1\n",
    "        # print(elements)\n",
    "        \n",
    "    if (count<(len(elements)**2)):\n",
    "        # print(count)\n",
    "        # print(elements)\n",
    "        return  bubble_sort_recursive(elements,count)\n",
    "    \n",
    "    return elements\n",
    "\n",
    "if __name__ == \"__main__\":\n",
    "    elements = [38,9,29,7,2,15,28]\n",
    "    # print(\"helo\")\n",
    "#     elements = [2,1,5,7,9]\n",
    "    print(\"Normal Bubble sort:\",bubble_sort(elements))\n",
    "    print(\"Recursive Bubble Sort:\",bubble_sort_recursive(elements))\n",
    "    "
   ]
  },
  {
   "cell_type": "markdown",
   "id": "766c9802",
   "metadata": {},
   "source": [
    "# Bubble Sort Exercise\n",
    "Modify bubble_sort function such that it can sort following list of transactions happening in an electronic store,\n",
    "\n",
    "\n",
    "\n",
    "elements = [\n",
    "\n",
    "        { 'name': 'mona',   'transaction_amount': 1000, 'device': 'iphone-10'},\n",
    "        \n",
    "        { 'name': 'dhaval', 'transaction_amount': 400,  'device': 'google pixel'},\n",
    "        \n",
    "        { 'name': 'kathy',  'transaction_amount': 200,  'device': 'vivo'},\n",
    "        \n",
    "        { 'name': 'aamir',  'transaction_amount': 800,  'device': 'iphone-8'},\n",
    "    ]\n",
    "    \n",
    "    \n",
    "bubble_sort function should take key from a transaction record and sort the list as per that key. For example,\n",
    "\n",
    "bubble_sort(elements, key='transaction_amount')\n",
    "This will sort elements by transaction_amount and your sorted list will look like,\n",
    "\n",
    "elements = [\n",
    "\n",
    "        { 'name': 'kathy',  'transaction_amount': 200,  'device': 'vivo'},\n",
    "        \n",
    "        { 'name': 'dhaval', 'transaction_amount': 400,  'device': 'google pixel'},\n",
    "        \n",
    "        { 'name': 'aamir',  'transaction_amount': 800,  'device': 'iphone-8'},\n",
    "        \n",
    "        { 'name': 'mona',   'transaction_amount': 1000, 'device': 'iphone-10'},\n",
    "        \n",
    "    ]\n",
    "But if you call it like this,\n",
    "\n",
    "bubble_sort(elements, key='name')\n",
    "output will be,\n",
    "\n",
    "elements = [\n",
    "\n",
    "        { 'name': 'aamir',  'transaction_amount': 800,  'device': 'iphone-8'},\n",
    "        \n",
    "        { 'name': 'dhaval', 'transaction_amount': 400,  'device': 'google pixel'},\n",
    "        \n",
    "        { 'name': 'kathy',  'transaction_amount': 200,  'device': 'vivo'},\n",
    "        \n",
    "        { 'name': 'mona',   'transaction_amount': 1000, 'device': 'iphone-10'},\n",
    "        \n",
    "    ]"
   ]
  },
  {
   "cell_type": "code",
   "execution_count": 18,
   "id": "c3c21a2b",
   "metadata": {},
   "outputs": [
    {
     "name": "stdout",
     "output_type": "stream",
     "text": [
      "[{'name': 'dhaval', 'transaction_amount': 400, 'device': 'google pixel'}, {'name': 'mona', 'transaction_amount': 1000, 'device': 'iphone-10'}, {'name': 'aamir', 'transaction_amount': 800, 'device': 'iphone-8'}, {'name': 'kathy', 'transaction_amount': 200, 'device': 'vivo'}]\n"
     ]
    }
   ],
   "source": [
    "def bubble_sort(elements,key):\n",
    "    for i in range(0,len(elements)):\n",
    "        i=0\n",
    "        j=0\n",
    "        for j in range(1,len(elements)):\n",
    "#             print(i,j)\n",
    "            if elements[i][key]>elements[j][key]:\n",
    "                newelement = elements[i]\n",
    "                elements[i] = elements[j]\n",
    "                elements[j]= newelement\n",
    "            \n",
    "            i+=1\n",
    "            j+=1\n",
    "            \n",
    "    return elements\n",
    "        \n",
    "if __name__ == \"__main__\":\n",
    "#     elements = [38,9,29,7,2,15,28]\n",
    "#     elements = [2,1,5,7,9]\n",
    "\n",
    "    elements = [\n",
    "\n",
    "    { 'name': 'aamir',  'transaction_amount': 800,  'device': 'iphone-8'},\n",
    "\n",
    "    { 'name': 'dhaval', 'transaction_amount': 400,  'device': 'google pixel'},\n",
    "\n",
    "    { 'name': 'kathy',  'transaction_amount': 200,  'device': 'vivo'},\n",
    "\n",
    "    { 'name': 'mona',   'transaction_amount': 1000, 'device': 'iphone-10'},\n",
    "\n",
    "    ]\n",
    "    \n",
    "    elements = bubble_sort(elements,\"device\")\n",
    "    print(elements)\n",
    "#     for element in elements:\n",
    "#         print(element)"
   ]
  },
  {
   "cell_type": "code",
   "execution_count": null,
   "id": "e2fd2470",
   "metadata": {},
   "outputs": [],
   "source": []
  }
 ],
 "metadata": {
  "kernelspec": {
   "display_name": "Python 3 (ipykernel)",
   "language": "python",
   "name": "python3"
  },
  "language_info": {
   "codemirror_mode": {
    "name": "ipython",
    "version": 3
   },
   "file_extension": ".py",
   "mimetype": "text/x-python",
   "name": "python",
   "nbconvert_exporter": "python",
   "pygments_lexer": "ipython3",
   "version": "3.9.6"
  }
 },
 "nbformat": 4,
 "nbformat_minor": 5
}
