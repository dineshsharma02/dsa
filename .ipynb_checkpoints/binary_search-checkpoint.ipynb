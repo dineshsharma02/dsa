{
 "cells": [
  {
   "cell_type": "markdown",
   "metadata": {},
   "source": []
  },
  {
   "cell_type": "code",
   "execution_count": 1,
   "metadata": {},
   "outputs": [],
   "source": [
    "def Binary_Search(nums,num_to_find):\n",
    "    left_index = 0\n",
    "    right_index = len(nums)-1\n",
    "    \n",
    "    while left_index<right_index:\n",
    "        midindex = (left_index+right_index) // 2\n",
    "        midvalue = nums[midindex]\n",
    "        print(left_index,\"\",right_index)\n",
    "        if midvalue==num_to_find:\n",
    "            return midindex\n",
    "        if midvalue>num_to_find:\n",
    "            right_index=midindex\n",
    "        else:\n",
    "            left_index = midindex+1\n",
    "    return -1"
   ]
  },
  {
   "cell_type": "code",
   "execution_count": null,
   "metadata": {},
   "outputs": [],
   "source": [
    "\n",
    "\n",
    "def Binary_Search_Recursive(nums,num_to_find,left_index,right_index,index_list):\n",
    "    \n",
    "    midindex = (left_index+right_index) // 2\n",
    "    if left_index<right_index:\n",
    "        midvalue = nums[midindex]\n",
    "        if midvalue==num_to_find:\n",
    "            index_list.append(midindex)\n",
    "            # print(midindex)\n",
    "\n",
    "        if midvalue>num_to_find:\n",
    "            right_index = midindex\n",
    "            # print(midindex)\n",
    "            return Binary_Search_Recursive(nums,num_to_find,left_index,right_index,index_list)\n",
    "\n",
    "\n",
    "        else:\n",
    "            left_index = midindex\n",
    "            # print(midindex)\n",
    "            return Binary_Search_Recursive(nums,num_to_find,left_index,right_index,index_list)\n",
    "        \n",
    "    return index_list\n",
    "\n",
    "\n",
    "    \n",
    "\n",
    "if __name__ == \"__main__\":\n",
    "    nums = [1,3,5,7,9,10,10,10,50,90,500,800,900]\n",
    "    # print(len(nums))\n",
    "    # nums = [15]\n",
    "    \n",
    "    # print(\"number 10 found at \",)\n",
    "    elelist = Binary_Search_Recursive(nums,900,0,len(nums),[])\n",
    "    for element in elelist:\n",
    "        print(element)\n",
    "\n",
    "\n",
    "# elelis = [1,3,4,6]\n",
    "# # for ele in elelis:\n",
    "# #     print(ele)\n",
    "# print(elelis)"
   ]
  },
  {
   "cell_type": "code",
   "execution_count": null,
   "metadata": {},
   "outputs": [],
   "source": []
  }
 ],
 "metadata": {
  "interpreter": {
   "hash": "bece59f2287de7bf793ff45b059fa88926c5041cc3be2cc1b564c426d279a26f"
  },
  "kernelspec": {
   "display_name": "Python 3 (ipykernel)",
   "language": "python",
   "name": "python3"
  },
  "language_info": {
   "codemirror_mode": {
    "name": "ipython",
    "version": 3
   },
   "file_extension": ".py",
   "mimetype": "text/x-python",
   "name": "python",
   "nbconvert_exporter": "python",
   "pygments_lexer": "ipython3",
   "version": "3.9.6"
  }
 },
 "nbformat": 4,
 "nbformat_minor": 2
}
